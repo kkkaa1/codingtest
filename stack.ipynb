{
 "cells": [
  {
   "cell_type": "markdown",
   "id": "d616ccc3",
   "metadata": {},
   "source": [
    "# Queue(Deque)"
   ]
  },
  {
   "cell_type": "code",
   "execution_count": 3,
   "id": "bb6aa2fd",
   "metadata": {},
   "outputs": [
    {
     "data": {
      "text/plain": [
       "2"
      ]
     },
     "execution_count": 3,
     "metadata": {},
     "output_type": "execute_result"
    }
   ],
   "source": [
    "#arraylist\n",
    "#queue 선언\n",
    "\n",
    "q = []\n",
    "#enqueue O(1)\n",
    "q.append(1)\n",
    "q.append(2)\n",
    "q.append(3)\n",
    "q.append(4)\n",
    "#dequeue O(n)\n",
    "q.pop()\n",
    "q.pop()\n",
    "q.pop()\n",
    "\n"
   ]
  },
  {
   "cell_type": "code",
   "execution_count": 5,
   "id": "5a9106c4",
   "metadata": {},
   "outputs": [
    {
     "data": {
      "text/plain": [
       "1"
      ]
     },
     "execution_count": 5,
     "metadata": {},
     "output_type": "execute_result"
    }
   ],
   "source": [
    "#LinkedList\n",
    "from collections import deque\n",
    "queue = deque()\n",
    "#enqueue() O(1)\n",
    "queue.append(1)\n",
    "\n",
    "#dequeue() O(1)\n",
    "queue.popleft()"
   ]
  },
  {
   "cell_type": "markdown",
   "id": "01a84aaf",
   "metadata": {},
   "source": [
    "# Stack"
   ]
  },
  {
   "cell_type": "code",
   "execution_count": 7,
   "id": "bf7f2169",
   "metadata": {},
   "outputs": [
    {
     "data": {
      "text/plain": [
       "1"
      ]
     },
     "execution_count": 7,
     "metadata": {},
     "output_type": "execute_result"
    }
   ],
   "source": [
    "#stack 선언\n",
    "stack = []\n",
    "#push O(1)\n",
    "stack.append(1)\n",
    "stack.append(2)\n",
    "#pop O(1)\n",
    "stack.pop()\n",
    "stack.pop()"
   ]
  },
  {
   "cell_type": "code",
   "execution_count": 9,
   "id": "d36f3ae7",
   "metadata": {},
   "outputs": [
    {
     "name": "stdout",
     "output_type": "stream",
     "text": [
      "['(']\n",
      "['[']\n"
     ]
    },
    {
     "data": {
      "text/plain": [
       "True"
      ]
     },
     "execution_count": 9,
     "metadata": {},
     "output_type": "execute_result"
    }
   ],
   "source": [
    "#Valid Parentheses 내가생각한거\n",
    "#'(),{},[]'를 포함하고 있는 문자열 s가 주어졌을 때 , 괄호가 유효한지 아닌지 판별하기\n",
    "#([)\n",
    "input1 = '()[]'\n",
    "inputlst=[]\n",
    "for i in input1:\n",
    "    inputlst.append(i)\n",
    "    \n",
    "def ValidParentheses(inputlist):\n",
    "    stack = []\n",
    "    for i in inputlist:\n",
    "        if i in ['[','{','(']:\n",
    "            stack.append(i)\n",
    "            print(stack)\n",
    "        else:\n",
    "            if stack[-1]=='(' and i==')' or stack[-1]=='{' and i=='}'or stack[-1]=='[' and i==']':\n",
    "                stack.pop()\n",
    "            else:\n",
    "                return False\n",
    "    if len(stack)==0:\n",
    "        return True\n",
    "    else:\n",
    "        return False\n",
    "ValidParentheses(inputlst)"
   ]
  },
  {
   "cell_type": "code",
   "execution_count": 16,
   "id": "4bff9aae",
   "metadata": {},
   "outputs": [
    {
     "name": "stdout",
     "output_type": "stream",
     "text": [
      "[')']\n",
      "[]\n",
      "[')']\n",
      "[]\n",
      "[')']\n",
      "[]\n",
      "[')']\n",
      "[]\n",
      "[')']\n",
      "[')', ')']\n",
      "[')']\n",
      "[')', ')']\n",
      "[')']\n",
      "[')', ')']\n",
      "[')']\n",
      "[]\n",
      "[')']\n",
      "[]\n"
     ]
    },
    {
     "data": {
      "text/plain": [
       "True"
      ]
     },
     "execution_count": 16,
     "metadata": {},
     "output_type": "execute_result"
    }
   ],
   "source": [
    "#정답\n",
    "def isValid(s):\n",
    "    stack=[]\n",
    "    for p in s:\n",
    "        if p=='{':\n",
    "            stack.append('}')\n",
    "        elif p=='[':\n",
    "            stack.append(']')\n",
    "        elif p=='(':\n",
    "            stack.append(')')\n",
    "        elif not stack or stack.pop() !=p:\n",
    "            return False\n",
    "    return not stack\n",
    "isValid('()()()()(()()())()')"
   ]
  },
  {
   "cell_type": "code",
   "execution_count": 12,
   "id": "5b8e5940",
   "metadata": {},
   "outputs": [
    {
     "data": {
      "text/plain": [
       "[1, 2]"
      ]
     },
     "execution_count": 12,
     "metadata": {},
     "output_type": "execute_result"
    }
   ],
   "source": [
    "lst = [1,2,3]\n",
    "if lst.pop()==2:\n",
    "    print('yes')\n",
    "lst"
   ]
  },
  {
   "cell_type": "code",
   "execution_count": null,
   "id": "5f49baf9",
   "metadata": {},
   "outputs": [],
   "source": []
  }
 ],
 "metadata": {
  "kernelspec": {
   "display_name": "Python 3 (ipykernel)",
   "language": "python",
   "name": "python3"
  },
  "language_info": {
   "codemirror_mode": {
    "name": "ipython",
    "version": 3
   },
   "file_extension": ".py",
   "mimetype": "text/x-python",
   "name": "python",
   "nbconvert_exporter": "python",
   "pygments_lexer": "ipython3",
   "version": "3.9.12"
  },
  "toc": {
   "base_numbering": 1,
   "nav_menu": {},
   "number_sections": true,
   "sideBar": true,
   "skip_h1_title": false,
   "title_cell": "Table of Contents",
   "title_sidebar": "Contents",
   "toc_cell": false,
   "toc_position": {},
   "toc_section_display": true,
   "toc_window_display": false
  }
 },
 "nbformat": 4,
 "nbformat_minor": 5
}
